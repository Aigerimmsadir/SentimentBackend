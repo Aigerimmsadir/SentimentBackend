{
 "cells": [
  {
   "cell_type": "code",
   "execution_count": 49,
   "metadata": {},
   "outputs": [],
   "source": [
    "text='I liked her shoes, they are really pretty good!'"
   ]
  },
  {
   "cell_type": "code",
   "execution_count": 50,
   "metadata": {},
   "outputs": [],
   "source": [
    "from nltk.tokenize import word_tokenize,sent_tokenize\n",
    "from nltk.corpus import stopwords\n",
    "from nltk.stem import WordNetLemmatizer\n",
    "words = word_tokenize(text)\n",
    "stop_words = set(stopwords.words('english'))\n",
    "words_processed = [w.lower() for w in words if w not in stop_words]\n",
    "lemmatizer = WordNetLemmatizer()\n",
    "sentences = [lemmatizer.lemmatize(j) for j in words_processed]"
   ]
  },
  {
   "cell_type": "code",
   "execution_count": 1,
   "metadata": {},
   "outputs": [],
   "source": [
    "with open('plot.tok.gt9.5000') as obj_sents:\n",
    "    obj_sents = obj_sents.read()\n",
    "with open('quote.tok.gt9.5000') as subj_sents:\n",
    "    subj_sents = subj_sents.read()"
   ]
  },
  {
   "cell_type": "code",
   "execution_count": 51,
   "metadata": {},
   "outputs": [],
   "source": [
    " def prepair_train_data( sents, category):\n",
    "        stop_words = set(stopwords.words('english'))\n",
    "        sents_processed = sent_tokenize(sents)\n",
    "        sents_final = []\n",
    "        for k in sents_processed:\n",
    "            sent = word_tokenize(k)\n",
    "            sent = [w.lower() for w in sent if w not in stop_words]\n",
    "            lemmatizer = WordNetLemmatizer()\n",
    "            sent = [lemmatizer.lemmatize(j) for j in sent]\n",
    "            sents_final.append(sent)\n",
    "        sents_final = [(i, category) for i in sents_final]\n",
    "        return sents_final"
   ]
  },
  {
   "cell_type": "code",
   "execution_count": 52,
   "metadata": {},
   "outputs": [],
   "source": [
    "train_subj = prepair_train_data(subj_sents, 'subj')[:10]\n",
    "train_obj = prepair_train_data(obj_sents, 'obj')[:10]"
   ]
  },
  {
   "cell_type": "code",
   "execution_count": 46,
   "metadata": {},
   "outputs": [],
   "source": [
    "from nltk.corpus import stopwords\n",
    "stop_words = set(stopwords.words('english'))"
   ]
  },
  {
   "cell_type": "code",
   "execution_count": 60,
   "metadata": {},
   "outputs": [
    {
     "name": "stdout",
     "output_type": "stream",
     "text": [
      "(['movie', 'begin', 'past', 'young', 'boy', 'named', 'sam', 'attempt', 'save', 'celebi', 'hunter', '.'], 'obj')\n",
      "(['color', ',', 'musical', 'bounce', 'warm', 'sea', 'lapping', 'island', 'shore', '.'], 'subj')\n"
     ]
    }
   ],
   "source": [
    "print(train_obj[0])\n",
    "print(train_subj[1])"
   ]
  },
  {
   "cell_type": "code",
   "execution_count": 61,
   "metadata": {
    "scrolled": true
   },
   "outputs": [
    {
     "ename": "NameError",
     "evalue": "name 'NaiveBayesClassifier' is not defined",
     "output_type": "error",
     "traceback": [
      "\u001b[1;31m---------------------------------------------------------------------------\u001b[0m",
      "\u001b[1;31mNameError\u001b[0m                                 Traceback (most recent call last)",
      "\u001b[1;32m<ipython-input-61-426221f3d0a3>\u001b[0m in \u001b[0;36m<module>\u001b[1;34m\u001b[0m\n\u001b[1;32m----> 1\u001b[1;33m \u001b[0mtrainer\u001b[0m \u001b[1;33m=\u001b[0m \u001b[0mNaiveBayesClassifier\u001b[0m\u001b[1;33m.\u001b[0m\u001b[0mtrain\u001b[0m\u001b[1;33m\u001b[0m\u001b[1;33m\u001b[0m\u001b[0m\n\u001b[0m\u001b[0;32m      2\u001b[0m \u001b[0msubj_classifier\u001b[0m \u001b[1;33m=\u001b[0m \u001b[0mself\u001b[0m\u001b[1;33m.\u001b[0m\u001b[0msentim_analyzer\u001b[0m\u001b[1;33m.\u001b[0m\u001b[0mtrain\u001b[0m\u001b[1;33m(\u001b[0m\u001b[0mtrainer\u001b[0m\u001b[1;33m,\u001b[0m \u001b[0mtraining_set\u001b[0m\u001b[1;33m)\u001b[0m\u001b[1;33m\u001b[0m\u001b[1;33m\u001b[0m\u001b[0m\n",
      "\u001b[1;31mNameError\u001b[0m: name 'NaiveBayesClassifier' is not defined"
     ]
    }
   ],
   "source": [
    "trainer = NaiveBayesClassifier.train\n",
    "subj_classifier = self.sentim_analyzer.train(trainer, training_set)"
   ]
  },
  {
   "cell_type": "code",
   "execution_count": 65,
   "metadata": {},
   "outputs": [
    {
     "data": {
      "text/plain": [
       "{'Accuracy': 0.8,\n",
       " 'F-measure [obj]': 0.89,\n",
       " 'Precision [obj]': 0.9,\n",
       " 'Recall [obj]': 0.8}"
      ]
     },
     "execution_count": 65,
     "metadata": {},
     "output_type": "execute_result"
    }
   ],
   "source": [
    "a={'Accuracy': 0.8,\n",
    "'F-measure [obj]': 0.89,\n",
    "'Precision [obj]': 0.9,\n",
    "'Recall [obj]': 0.8}\n",
    "a"
   ]
  },
  {
   "cell_type": "code",
   "execution_count": 68,
   "metadata": {},
   "outputs": [],
   "source": [
    "from nltk.sentiment.vader import SentimentIntensityAnalyzer\n",
    "sid = SentimentIntensityAnalyzer()\n",
    "polarity = sid.polarity_scores(text)"
   ]
  },
  {
   "cell_type": "code",
   "execution_count": 69,
   "metadata": {},
   "outputs": [
    {
     "data": {
      "text/plain": [
       "{'neg': 0.0, 'neu': 0.339, 'pos': 0.661, 'compound': 0.8678}"
      ]
     },
     "execution_count": 69,
     "metadata": {},
     "output_type": "execute_result"
    }
   ],
   "source": [
    "polarity"
   ]
  },
  {
   "cell_type": "code",
   "execution_count": 74,
   "metadata": {},
   "outputs": [
    {
     "data": {
      "text/plain": [
       "{'subjectivity': 88.0, 'polarity': 93.39}"
      ]
     },
     "execution_count": 74,
     "metadata": {},
     "output_type": "execute_result"
    }
   ],
   "source": [
    "from nltk.sentiment import SentimentAnalyzer\n",
    "from nltk.sentiment.util import *\n",
    "from nltk.tokenize import sent_tokenize, word_tokenize\n",
    "from nltk.corpus import stopwords\n",
    "from nltk.stem import WordNetLemmatizer\n",
    "from nltk.sentiment.vader import SentimentIntensityAnalyzer\n",
    "from nltk.classify import NaiveBayesClassifier\n",
    "\n",
    "class DiplomaSentimentAnalyzer:\n",
    "    def __init__(self, n_instances=500):\n",
    "        self.n_instances = n_instances\n",
    "        self.subj_classifier = None\n",
    "        self.sentim_analyzer = None\n",
    "        try:\n",
    "\n",
    "            with open('my_classifier.pickle', 'rb') as f:\n",
    "                sentim_analyzer = pickle.load(f)\n",
    "                self.sentim_analyzer = sentim_analyzer\n",
    "        except IOError:\n",
    "            with open('plot.tok.gt9.5000') as obj_sents:\n",
    "                obj_sents = obj_sents.read()\n",
    "            with open('quote.tok.gt9.5000') as subj_sents:\n",
    "                subj_sents = subj_sents.read()\n",
    "            self.obj_sents = obj_sents\n",
    "            self.sentim_analyzer = SentimentAnalyzer()\n",
    "            self.train_diploma(subj_sents, obj_sents)\n",
    "\n",
    "    def prepair_train_data(self, sents, category):\n",
    "        stop_words = set(stopwords.words('english'))\n",
    "        sents_processed = sent_tokenize(sents)\n",
    "        sents_final = []\n",
    "        for k in sents_processed:\n",
    "            sent = word_tokenize(k)\n",
    "            sent = [w.lower() for w in sent if w not in stop_words]\n",
    "            lemmatizer = WordNetLemmatizer()\n",
    "            sent = [lemmatizer.lemmatize(j) for j in sent]\n",
    "            sents_final.append(sent)\n",
    "        sents_final = [(i, category) for i in sents_final]\n",
    "        return sents_final\n",
    "\n",
    "    def train_diploma(self, subj_sents, obj_sents):\n",
    "        train_subj = self.prepair_train_data(subj_sents, 'subj')[:self.n_instances]\n",
    "        train_obj = self.prepair_train_data(obj_sents, 'obj')[:self.n_instances]\n",
    "        training_docs = train_subj + train_obj\n",
    "        all_words_neg = self.sentim_analyzer.all_words([mark_negation(doc) for doc in training_docs])\n",
    "        unigram_feats = self.sentim_analyzer.unigram_word_feats(all_words_neg, min_freq=4)\n",
    "        self.sentim_analyzer.add_feat_extractor(extract_unigram_feats, unigrams=unigram_feats)\n",
    "        training_set = self.sentim_analyzer.apply_features(training_docs)\n",
    "        trainer = NaiveBayesClassifier.train\n",
    "        subj_classifier = self.sentim_analyzer.train(trainer, training_set)\n",
    "        self.subj_classifier = subj_classifier\n",
    "        f = open('my_classifier.pickle', 'wb')\n",
    "        pickle.dump(self.sentim_analyzer, f)\n",
    "        f.close()\n",
    "\n",
    "    def get_sentiment_values(self, text):\n",
    "        result = {}\n",
    "        if text:\n",
    "            stop_words = set(stopwords.words('english'))\n",
    "            sentences = word_tokenize(text)\n",
    "            sentences = [w.lower() for w in sentences if w not in stop_words]\n",
    "            lemmatizer = WordNetLemmatizer()\n",
    "            sentences = [lemmatizer.lemmatize(j) for j in sentences]\n",
    "            subj_count = 0\n",
    "            for i in sentences:\n",
    "                a = self.sentim_analyzer.classify({i, True})\n",
    "                if a == 'subj':\n",
    "                    subj_count += 1\n",
    "\n",
    "            result['subjectivity'] = round((subj_count / len(sentences)),2)*100\n",
    "            sid = SentimentIntensityAnalyzer()\n",
    "            polarity = sid.polarity_scores(text)['compound']\n",
    "            result['polarity'] = (polarity/2+0.5)*100\n",
    "            return result\n",
    "\n",
    "ds=DiplomaSentimentAnalyzer()\n",
    "ds.get_sentiment_values(text)"
   ]
  },
  {
   "cell_type": "code",
   "execution_count": null,
   "metadata": {},
   "outputs": [],
   "source": []
  }
 ],
 "metadata": {
  "kernelspec": {
   "display_name": "Python 3",
   "language": "python",
   "name": "python3"
  },
  "language_info": {
   "codemirror_mode": {
    "name": "ipython",
    "version": 3
   },
   "file_extension": ".py",
   "mimetype": "text/x-python",
   "name": "python",
   "nbconvert_exporter": "python",
   "pygments_lexer": "ipython3",
   "version": "3.7.4"
  }
 },
 "nbformat": 4,
 "nbformat_minor": 4
}
